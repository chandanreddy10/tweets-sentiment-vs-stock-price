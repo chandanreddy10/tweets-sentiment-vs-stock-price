{
 "cells": [
  {
   "cell_type": "code",
   "execution_count": 90,
   "metadata": {},
   "outputs": [],
   "source": [
    "import pandas as pd\n",
    "from sklearn.decomposition import PCA\n",
    "from sklearn.decomposition import KernelPCA\n",
    "import matplotlib.pyplot as plt"
   ]
  },
  {
   "cell_type": "code",
   "execution_count": 91,
   "metadata": {},
   "outputs": [],
   "source": [
    "#opening our data file.\n",
    "\n",
    "with open(\"data.txt\",\"r\") as file:\n",
    "    data = file.read()"
   ]
  },
  {
   "cell_type": "code",
   "execution_count": 92,
   "metadata": {},
   "outputs": [],
   "source": [
    "tweets = data.split(',')"
   ]
  },
  {
   "cell_type": "code",
   "execution_count": 93,
   "metadata": {},
   "outputs": [],
   "source": [
    "#preparing list for doc2vec\n",
    "updated = []\n",
    "for tweet in tweets:\n",
    "    updated.append(tweet.strip(\"'[ ]'\"))"
   ]
  },
  {
   "cell_type": "code",
   "execution_count": 94,
   "metadata": {},
   "outputs": [],
   "source": [
    "#preparing word list for model.\n",
    "\n",
    "cleaned_data = []\n",
    "for tweets in updated:\n",
    "    helper = tweets.split(' ')\n",
    "    cleaned_data.append(helper)"
   ]
  },
  {
   "cell_type": "code",
   "execution_count": 95,
   "metadata": {},
   "outputs": [],
   "source": [
    "#for doc2vec it is important to create tagged documents\n",
    "from gensim.models import doc2vec\n",
    "\n",
    "def tagged_document(documents_list):\n",
    "\n",
    "    helper = []\n",
    "    for i,document in enumerate(documents_list):\n",
    "        helper.append(doc2vec.TaggedDocument(document, [i]))\n",
    "    return helper\n",
    "\n",
    "train_data = tagged_document(cleaned_data)"
   ]
  },
  {
   "cell_type": "code",
   "execution_count": 96,
   "metadata": {},
   "outputs": [],
   "source": [
    "#initializing the doc2vec model\n",
    "\n",
    "#min_count -> ignores words below this\n",
    "\n",
    "model = doc2vec.Doc2Vec(vector_size=100,min_count=2,epochs=40)\n",
    "\n",
    "#building the vocabulary\n",
    "model.build_vocab(train_data)"
   ]
  },
  {
   "cell_type": "code",
   "execution_count": 97,
   "metadata": {},
   "outputs": [],
   "source": [
    "#train the do2vec model\n",
    "#total_examples = total documents\n",
    "\n",
    "model.train(train_data, total_examples=model.corpus_count, epochs = model.epochs)"
   ]
  },
  {
   "cell_type": "code",
   "execution_count": 98,
   "metadata": {},
   "outputs": [
    {
     "data": {
      "text/plain": [
       "array([ 0.24568723, -1.2349601 , -1.8193328 , -1.285137  , -2.2291927 ,\n",
       "       -1.5115426 , -0.03938142,  2.282128  , -3.72364   , -1.581346  ,\n",
       "        0.34505343, -1.8306859 ,  0.29053348, -0.12873636, -1.9236138 ,\n",
       "       -2.463188  ,  0.43578297, -0.394689  , -0.85277367, -1.5875292 ,\n",
       "        0.8561822 ,  0.00454585, -0.5946985 ,  2.1619055 ,  2.334487  ,\n",
       "       -0.9317844 , -0.54586613, -0.00910752,  0.38888425,  0.512048  ,\n",
       "       -0.54642683,  1.6793768 , -2.5275924 ,  0.5448669 , -1.8352413 ,\n",
       "        1.2444627 ,  0.2747754 , -3.7194648 , -0.45562765,  0.05510097,\n",
       "        0.9053493 , -2.7563968 , -1.1314063 , -1.1258366 , -0.03441843,\n",
       "        1.3393023 ,  1.6039553 ,  2.9438224 ,  0.40167055, -0.06385476,\n",
       "        0.2718262 , -0.5375563 , -2.695804  ,  0.34028992,  3.8389676 ,\n",
       "       -0.48868763,  1.0951984 ,  0.09688149, -1.4744512 , -0.28722516,\n",
       "       -0.84183437,  3.2164295 , -1.9294558 , -1.2481285 , -0.45228073,\n",
       "        3.1705582 ,  1.3881408 ,  2.0421968 , -1.6928097 ,  0.7733703 ,\n",
       "       -0.09317898, -0.91285497,  1.9089422 , -0.38666782, -0.8855386 ,\n",
       "        0.1185948 ,  0.49706328,  0.7708376 ,  0.4720994 ,  0.8713344 ,\n",
       "        0.86254925, -0.15048099,  0.49460167, -0.4869197 ,  2.5901983 ,\n",
       "        2.202442  ,  1.7431093 ,  0.92908263, -1.5174726 ,  3.072593  ,\n",
       "       -2.5504227 ,  1.0035928 ,  3.6182191 ,  0.9835936 ,  3.7916439 ,\n",
       "        1.1045277 ,  0.62341565,  3.7482748 ,  2.0866873 ,  1.0438318 ],\n",
       "      dtype=float32)"
      ]
     },
     "execution_count": 98,
     "metadata": {},
     "output_type": "execute_result"
    }
   ],
   "source": [
    "#getting the vectors for our document\n",
    "model.infer_vector(cleaned_data[0])"
   ]
  },
  {
   "cell_type": "code",
   "execution_count": 99,
   "metadata": {},
   "outputs": [],
   "source": [
    "vec_data = []\n",
    "for index in range(len(cleaned_data)):\n",
    "    temp_vec = model.infer_vector(cleaned_data[index])\n",
    "    vec_data.append(temp_vec)"
   ]
  },
  {
   "cell_type": "code",
   "execution_count": 100,
   "metadata": {},
   "outputs": [],
   "source": [
    "#creating a dataframe with it vec_data has all our documents vectors\n",
    "\n",
    "df = pd.DataFrame(data=vec_data, columns=[i for i in range(100)])"
   ]
  },
  {
   "cell_type": "code",
   "execution_count": 101,
   "metadata": {},
   "outputs": [],
   "source": [
    "pca = PCA(n_components=100)"
   ]
  },
  {
   "cell_type": "code",
   "execution_count": 102,
   "metadata": {},
   "outputs": [
    {
     "data": {
      "text/plain": [
       "array([[-0.09392648, -0.02016571,  0.07812822, ...,  0.06634083,\n",
       "         0.08140925, -0.02751109],\n",
       "       [-0.00166992, -0.07149627, -0.09611949, ..., -0.02149172,\n",
       "         0.07852659, -0.0304914 ],\n",
       "       [ 0.04344996, -0.1499885 ,  0.07614483, ...,  0.15544394,\n",
       "         0.04126011,  0.15925387],\n",
       "       ...,\n",
       "       [ 0.07250985,  0.0323955 , -0.08120348, ..., -0.0543154 ,\n",
       "        -0.03912208, -0.0962753 ],\n",
       "       [-0.06793014, -0.13008133, -0.10298348, ..., -0.01058003,\n",
       "        -0.1189688 ,  0.00224026],\n",
       "       [-0.1898949 , -0.02761841, -0.13764262, ..., -0.0915098 ,\n",
       "         0.14627421,  0.04205601]], dtype=float32)"
      ]
     },
     "execution_count": 102,
     "metadata": {},
     "output_type": "execute_result"
    }
   ],
   "source": [
    "pca.fit_transform(df)\n",
    "pca.components_"
   ]
  },
  {
   "cell_type": "code",
   "execution_count": 103,
   "metadata": {},
   "outputs": [
    {
     "data": {
      "image/png": "[encoded data removed]",
      "text/plain": [
       "<Figure size 1000x400 with 1 Axes>"
      ]
     },
     "metadata": {},
     "output_type": "display_data"
    }
   ],
   "source": [
    "x1 = pca.components_[0]\n",
    "x2 = pca.components_[1]\n",
    "\n",
    "plt.figure(figsize=(10,4))\n",
    "plt.plot(x1,x2,\"go\")\n",
    "plt.xlabel(\"PC-1\")\n",
    "plt.ylabel(\"PC-2\")\n",
    "plt.title(\"Data reduced to 2 dimensions (PCA)\")\n",
    "plt.show()"
   ]
  },
  {
   "cell_type": "code",
   "execution_count": 104,
   "metadata": {},
   "outputs": [],
   "source": [
    "#with kernel PCA\n",
    "\n",
    "kpca = KernelPCA(n_components=100,kernel='poly',degree=3)"
   ]
  },
  {
   "cell_type": "code",
   "execution_count": 105,
   "metadata": {},
   "outputs": [
    {
     "data": {
      "text/plain": [
       "array([[-0.45483494,  0.28222704, -0.10082349, ...,  0.5157737 ,\n",
       "         0.2934948 ,  0.45126298],\n",
       "       [-0.09346842, -0.35491627, -0.36803976, ...,  0.21185796,\n",
       "        -0.13375317,  0.21129896],\n",
       "       [-0.36809903,  0.06340616, -0.10140338, ...,  0.11614129,\n",
       "        -0.0366699 , -0.08363011],\n",
       "       ...,\n",
       "       [-0.43931004,  0.20611201,  0.6906932 , ...,  0.0360832 ,\n",
       "         0.42879274, -0.3527076 ],\n",
       "       [-0.03796024, -0.16339399, -0.06422801, ..., -0.02132981,\n",
       "         0.04991471,  0.29262018],\n",
       "       [-0.11442954,  0.23032036,  0.64966524, ..., -1.0718085 ,\n",
       "        -0.34404522, -0.945331  ]], dtype=float32)"
      ]
     },
     "execution_count": 105,
     "metadata": {},
     "output_type": "execute_result"
    }
   ],
   "source": [
    "kpca.fit_transform(df)"
   ]
  },
  {
   "cell_type": "code",
   "execution_count": 106,
   "metadata": {},
   "outputs": [
    {
     "data": {
      "image/png": "[encoded data removed]",
      "text/plain": [
       "<Figure size 1000x400 with 1 Axes>"
      ]
     },
     "metadata": {},
     "output_type": "display_data"
    }
   ],
   "source": [
    "x1 = kpca.eigenvectors_[0]\n",
    "x2 = kpca.eigenvectors_[1]\n",
    "\n",
    "plt.figure(figsize=(10,4))\n",
    "plt.plot(x1,x2,\"go\")\n",
    "plt.xlabel(\"component-1\")\n",
    "plt.ylabel(\"component-2\")\n",
    "plt.title(\"Data reduced to 2 dimensions kPCA()\")\n",
    "plt.show()"
   ]
  },
  {
   "cell_type": "code",
   "execution_count": 107,
   "metadata": {},
   "outputs": [],
   "source": [
    "#labelling the data\n",
    "\n",
    "import pandas as pd\n",
    "\n",
    "data = pd.read_csv('./data/vector_data_tesla.csv')\n",
    "data.drop(columns='Unnamed: 0',inplace=True)"
   ]
  },
  {
   "cell_type": "code",
   "execution_count": 108,
   "metadata": {},
   "outputs": [],
   "source": [
    "from sklearn.cluster import KMeans\n",
    "\n",
    "X = data.drop(columns='date')"
   ]
  },
  {
   "cell_type": "code",
   "execution_count": 110,
   "metadata": {},
   "outputs": [],
   "source": [
    "kmeans = KMeans(n_clusters=2, init='k-means++')"
   ]
  },
  {
   "cell_type": "code",
   "execution_count": 118,
   "metadata": {},
   "outputs": [
    {
     "data": {
      "text/html": [
       "<style>#sk-container-id-3 {color: black;background-color: white;}#sk-container-id-3 pre{padding: 0;}#sk-container-id-3 div.sk-toggleable {background-color: white;}#sk-container-id-3 label.sk-toggleable__label {cursor: pointer;display: block;width: 100%;margin-bottom: 0;padding: 0.3em;box-sizing: border-box;text-align: center;}#sk-container-id-3 label.sk-toggleable__label-arrow:before {content: \"▸\";float: left;margin-right: 0.25em;color: #696969;}#sk-container-id-3 label.sk-toggleable__label-arrow:hover:before {color: black;}#sk-container-id-3 div.sk-estimator:hover label.sk-toggleable__label-arrow:before {color: black;}#sk-container-id-3 div.sk-toggleable__content {max-height: 0;max-width: 0;overflow: hidden;text-align: left;background-color: #f0f8ff;}#sk-container-id-3 div.sk-toggleable__content pre {margin: 0.2em;color: black;border-radius: 0.25em;background-color: #f0f8ff;}#sk-container-id-3 input.sk-toggleable__control:checked~div.sk-toggleable__content {max-height: 200px;max-width: 100%;overflow: auto;}#sk-container-id-3 input.sk-toggleable__control:checked~label.sk-toggleable__label-arrow:before {content: \"▾\";}#sk-container-id-3 div.sk-estimator input.sk-toggleable__control:checked~label.sk-toggleable__label {background-color: #d4ebff;}#sk-container-id-3 div.sk-label input.sk-toggleable__control:checked~label.sk-toggleable__label {background-color: #d4ebff;}#sk-container-id-3 input.sk-hidden--visually {border: 0;clip: rect(1px 1px 1px 1px);clip: rect(1px, 1px, 1px, 1px);height: 1px;margin: -1px;overflow: hidden;padding: 0;position: absolute;width: 1px;}#sk-container-id-3 div.sk-estimator {font-family: monospace;background-color: #f0f8ff;border: 1px dotted black;border-radius: 0.25em;box-sizing: border-box;margin-bottom: 0.5em;}#sk-container-id-3 div.sk-estimator:hover {background-color: #d4ebff;}#sk-container-id-3 div.sk-parallel-item::after {content: \"\";width: 100%;border-bottom: 1px solid gray;flex-grow: 1;}#sk-container-id-3 div.sk-label:hover label.sk-toggleable__label {background-color: #d4ebff;}#sk-container-id-3 div.sk-serial::before {content: \"\";position: absolute;border-left: 1px solid gray;box-sizing: border-box;top: 0;bottom: 0;left: 50%;z-index: 0;}#sk-container-id-3 div.sk-serial {display: flex;flex-direction: column;align-items: center;background-color: white;padding-right: 0.2em;padding-left: 0.2em;position: relative;}#sk-container-id-3 div.sk-item {position: relative;z-index: 1;}#sk-container-id-3 div.sk-parallel {display: flex;align-items: stretch;justify-content: center;background-color: white;position: relative;}#sk-container-id-3 div.sk-item::before, #sk-container-id-3 div.sk-parallel-item::before {content: \"\";position: absolute;border-left: 1px solid gray;box-sizing: border-box;top: 0;bottom: 0;left: 50%;z-index: -1;}#sk-container-id-3 div.sk-parallel-item {display: flex;flex-direction: column;z-index: 1;position: relative;background-color: white;}#sk-container-id-3 div.sk-parallel-item:first-child::after {align-self: flex-end;width: 50%;}#sk-container-id-3 div.sk-parallel-item:last-child::after {align-self: flex-start;width: 50%;}#sk-container-id-3 div.sk-parallel-item:only-child::after {width: 0;}#sk-container-id-3 div.sk-dashed-wrapped {border: 1px dashed gray;margin: 0 0.4em 0.5em 0.4em;box-sizing: border-box;padding-bottom: 0.4em;background-color: white;}#sk-container-id-3 div.sk-label label {font-family: monospace;font-weight: bold;display: inline-block;line-height: 1.2em;}#sk-container-id-3 div.sk-label-container {text-align: center;}#sk-container-id-3 div.sk-container {/* jupyter's `normalize.less` sets `[hidden] { display: none; }` but bootstrap.min.css set `[hidden] { display: none !important; }` so we also need the `!important` here to be able to override the default hidden behavior on the sphinx rendered scikit-learn.org. See: https://github.com/scikit-learn/scikit-learn/issues/21755 */display: inline-block !important;position: relative;}#sk-container-id-3 div.sk-text-repr-fallback {display: none;}</style><div id=\"sk-container-id-3\" class=\"sk-top-container\"><div class=\"sk-text-repr-fallback\"><pre>KMeans(n_clusters=2)</pre><b>In a Jupyter environment, please rerun this cell to show the HTML representation or trust the notebook. <br />On GitHub, the HTML representation is unable to render, please try loading this page with nbviewer.org.</b></div><div class=\"sk-container\" hidden><div class=\"sk-item\"><div class=\"sk-estimator sk-toggleable\"><input class=\"sk-toggleable__control sk-hidden--visually\" id=\"sk-estimator-id-3\" type=\"checkbox\" checked><label for=\"sk-estimator-id-3\" class=\"sk-toggleable__label sk-toggleable__label-arrow\">KMeans</label><div class=\"sk-toggleable__content\"><pre>KMeans(n_clusters=2)</pre></div></div></div></div></div>"
      ],
      "text/plain": [
       "KMeans(n_clusters=2)"
      ]
     },
     "execution_count": 118,
     "metadata": {},
     "output_type": "execute_result"
    }
   ],
   "source": [
    "import warnings\n",
    "warnings.filterwarnings(action='ignore')\n",
    "kmeans.fit(X)"
   ]
  },
  {
   "cell_type": "code",
   "execution_count": 122,
   "metadata": {},
   "outputs": [],
   "source": [
    "predicted = []\n",
    "\n",
    "for i in range(len(X)):\n",
    "    predicted.append(kmeans.predict([X.loc[i]]))"
   ]
  },
  {
   "cell_type": "code",
   "execution_count": 123,
   "metadata": {},
   "outputs": [],
   "source": [
    "target = []\n",
    "for value in predicted:\n",
    "    if value == 1:\n",
    "        target.append(\"positive\")\n",
    "    else:\n",
    "        target.append(\"negative\")"
   ]
  },
  {
   "cell_type": "code",
   "execution_count": 124,
   "metadata": {},
   "outputs": [],
   "source": [
    "#exporting the df for model\n",
    "\n",
    "from data_preparation import data_reading\n",
    "tweets_data = pd.read_csv('./data/stock_tweets.csv')\n",
    "tesla = data_reading(tweets_data,'Tesla, Inc.')"
   ]
  },
  {
   "cell_type": "code",
   "execution_count": 125,
   "metadata": {},
   "outputs": [],
   "source": [
    "dates = tesla.date.unique()\n",
    "df['date'] = dates\n",
    "df['target'] = target"
   ]
  },
  {
   "cell_type": "code",
   "execution_count": 126,
   "metadata": {},
   "outputs": [],
   "source": [
    "df.to_csv(\"vector_data_tesla.csv\")"
   ]
  }
 ],
 "metadata": {
  "kernelspec": {
   "display_name": "Python 3",
   "language": "python",
   "name": "python3"
  },
  "language_info": {
   "codemirror_mode": {
    "name": "ipython",
    "version": 3
   },
   "file_extension": ".py",
   "mimetype": "text/x-python",
   "name": "python",
   "nbconvert_exporter": "python",
   "pygments_lexer": "ipython3",
   "version": "3.10.2 (tags/v3.10.2:a58ebcc, Jan 17 2022, 14:12:15) [MSC v.1929 64 bit (AMD64)]"
  },
  "orig_nbformat": 4,
  "vscode": {
   "interpreter": {
    "hash": "afb734500600fd355917ca529030176ea0ca205570884b88f2f6f7d791fd3fbe"
   }
  }
 },
 "nbformat": 4,
 "nbformat_minor": 2
}
